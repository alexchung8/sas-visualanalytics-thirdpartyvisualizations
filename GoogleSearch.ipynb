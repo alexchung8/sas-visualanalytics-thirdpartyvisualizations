{
  "nbformat": 4,
  "nbformat_minor": 0,
  "metadata": {
    "colab": {
      "provenance": [],
      "authorship_tag": "ABX9TyP75jbu1PKAN8zho7/IuKNN",
      "include_colab_link": true
    },
    "kernelspec": {
      "name": "python3",
      "display_name": "Python 3"
    },
    "language_info": {
      "name": "python"
    }
  },
  "cells": [
    {
      "cell_type": "markdown",
      "metadata": {
        "id": "view-in-github",
        "colab_type": "text"
      },
      "source": [
        "<a href=\"https://colab.research.google.com/github/alexchung8/sas-visualanalytics-thirdpartyvisualizations/blob/master/GoogleSearch.ipynb\" target=\"_parent\"><img src=\"https://colab.research.google.com/assets/colab-badge.svg\" alt=\"Open In Colab\"/></a>"
      ]
    },
    {
      "cell_type": "code",
      "execution_count": 2,
      "metadata": {
        "colab": {
          "base_uri": "https://localhost:8080/"
        },
        "id": "Gbniaz6hjm32",
        "outputId": "a93f29e2-a9ca-45c4-b15b-f94565788eb3"
      },
      "outputs": [
        {
          "output_type": "stream",
          "name": "stdout",
          "text": [
            "Requirement already satisfied: beautifulsoup4 in /usr/local/lib/python3.10/dist-packages (4.12.3)\n",
            "Requirement already satisfied: soupsieve>1.2 in /usr/local/lib/python3.10/dist-packages (from beautifulsoup4) (2.5)\n"
          ]
        }
      ],
      "source": [
        "!pip install beautifulsoup4;"
      ]
    },
    {
      "cell_type": "code",
      "source": [
        "pip install google;"
      ],
      "metadata": {
        "colab": {
          "base_uri": "https://localhost:8080/"
        },
        "id": "lPUH_b2MkEot",
        "outputId": "62fa6128-b39e-43ef-c657-da2c67a96be8"
      },
      "execution_count": 3,
      "outputs": [
        {
          "output_type": "stream",
          "name": "stdout",
          "text": [
            "Requirement already satisfied: google in /usr/local/lib/python3.10/dist-packages (2.0.3)\n",
            "Requirement already satisfied: beautifulsoup4 in /usr/local/lib/python3.10/dist-packages (from google) (4.12.3)\n",
            "Requirement already satisfied: soupsieve>1.2 in /usr/local/lib/python3.10/dist-packages (from beautifulsoup4->google) (2.5)\n"
          ]
        }
      ]
    },
    {
      "cell_type": "code",
      "source": [
        "from googlesearch import search;\n",
        "\n",
        "# to search\n",
        "query = \"唐超\"\n",
        "\n",
        "for j in search(query, tld=\"co.in\", num=10, stop=10, pause=2):\n",
        "    print(j)"
      ],
      "metadata": {
        "colab": {
          "base_uri": "https://localhost:8080/"
        },
        "id": "B7SCBP-pkKUg",
        "outputId": "c0ff9855-f601-4f84-cd7e-668e84689164"
      },
      "execution_count": 6,
      "outputs": [
        {
          "output_type": "stream",
          "name": "stdout",
          "text": [
            "https://baike.baidu.com/item/%E5%94%90%E8%B6%85/61998553\n",
            "https://baike.baidu.com/item/%E5%94%90%E8%B6%85/19315550\n",
            "https://www.linkedin.com/in/%E8%B6%85-%E5%94%90-19426510b\n",
            "https://www.chinacourt.org/article/detail/2024/01/id/7748729.shtml\n",
            "https://www.thepaper.cn/newsDetail_forward_26561527\n",
            "https://www.wugang.gov.cn/wgsjzpz/wgldjj/202204/c9976742652a4cb291bfedd971a53fef.shtml\n",
            "https://www.kfarts.com/guang_xi/12930.html\n",
            "https://law.stu.edu.cn/info/1059/4933.htm\n",
            "https://zh.wikipedia.org/zh-hans/%E5%94%90%E6%9C%9D\n",
            "http://www.shuangliu.gov.cn/gkml/cdsslqyazrmzf/ldcy/1628290939946541056.shtml\n"
          ]
        }
      ]
    }
  ]
}